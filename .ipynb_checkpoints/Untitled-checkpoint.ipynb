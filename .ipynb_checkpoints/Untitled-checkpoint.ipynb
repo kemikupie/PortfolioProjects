{
 "cells": [
  {
   "cell_type": "markdown",
   "id": "97146ae7-5f06-48ca-b464-e106f0b28e33",
   "metadata": {},
   "source": [
    "<h1>COVID 19 DATA EXPLORATION </h1>"
   ]
  },
  {
   "cell_type": "markdown",
   "id": "2aad5b42-2f41-4e8d-a886-8d25d845fac3",
   "metadata": {},
   "source": [
    "# Install software libraries"
   ]
  },
  {
   "cell_type": "code",
   "execution_count": 14,
   "id": "d66d7d3b-170a-4160-8793-44bc997b118d",
   "metadata": {},
   "outputs": [
    {
     "name": "stdout",
     "output_type": "stream",
     "text": [
      "Collecting openpyxl\n",
      "  Downloading openpyxl-3.1.2-py2.py3-none-any.whl (249 kB)\n",
      "                                              0.0/250.0 kB ? eta -:--:--\n",
      "     -                                        10.2/250.0 kB ? eta -:--:--\n",
      "     ----------                            71.7/250.0 kB 787.7 kB/s eta 0:00:01\n",
      "     -----------------------                153.6/250.0 kB 1.3 MB/s eta 0:00:01\n",
      "     -------------------------------------  245.8/250.0 kB 1.3 MB/s eta 0:00:01\n",
      "     -------------------------------------- 250.0/250.0 kB 1.2 MB/s eta 0:00:00\n",
      "Collecting et-xmlfile (from openpyxl)\n",
      "  Downloading et_xmlfile-1.1.0-py3-none-any.whl (4.7 kB)\n",
      "Installing collected packages: et-xmlfile, openpyxl\n",
      "Successfully installed et-xmlfile-1.1.0 openpyxl-3.1.2\n"
     ]
    }
   ],
   "source": [
    "!pip install openpyxl"
   ]
  },
  {
   "cell_type": "code",
   "execution_count": 2,
   "id": "8badf85b-7d67-48d6-9b96-0c019beaed37",
   "metadata": {},
   "outputs": [],
   "source": [
    "import pandas as pd\n",
    "import sqlalchemy\n",
    "import sqlite3\n",
    "import matplotlib.pyplot as plt\n",
    "import seaborn as sns\n",
    "import warnings\n",
    "warnings.filterwarnings('ignore')"
   ]
  },
  {
   "cell_type": "code",
   "execution_count": 3,
   "id": "23329e40-ce82-4563-936c-011b0a96bcf9",
   "metadata": {},
   "outputs": [],
   "source": [
    "%load_ext sql"
   ]
  },
  {
   "cell_type": "markdown",
   "id": "89b3ff5f-ef04-46cc-9c5f-0be6005c918f",
   "metadata": {},
   "source": [
    "# Create a SQLite database"
   ]
  },
  {
   "cell_type": "code",
   "execution_count": 4,
   "id": "1dac89f8-a54a-4ef1-af6b-21ad51f84b9c",
   "metadata": {},
   "outputs": [],
   "source": [
    "engine = sqlalchemy.create_engine('sqlite:///covid19data.db')"
   ]
  },
  {
   "cell_type": "markdown",
   "id": "03763a09-909d-4517-9141-362167548ceb",
   "metadata": {},
   "source": [
    "# Connect to the SQLite database"
   ]
  },
  {
   "cell_type": "code",
   "execution_count": 5,
   "id": "bfaeeb24-30ee-486f-8e8d-efbe4e14d770",
   "metadata": {},
   "outputs": [],
   "source": [
    "%sql sqlite:///covid19data.db"
   ]
  },
  {
   "cell_type": "markdown",
   "id": "8a00e4a8-3ac1-4b9b-a116-194ee992e7f7",
   "metadata": {},
   "source": [
    "# Load the dataset as a `DataFrame`"
   ]
  },
  {
   "cell_type": "code",
   "execution_count": null,
   "id": "275ee8cb-6a57-4c8a-ac99-d5d685258f84",
   "metadata": {},
   "outputs": [],
   "source": [
    "Covid_Deaths=pd.read_excel('Datasets/CovidDeaths.xlsx')"
   ]
  },
  {
   "cell_type": "code",
   "execution_count": null,
   "id": "a48a90a4-30b7-41a0-bb50-0bbcbdf0f507",
   "metadata": {},
   "outputs": [],
   "source": []
  }
 ],
 "metadata": {
  "kernelspec": {
   "display_name": "Python 3 (ipykernel)",
   "language": "python",
   "name": "python3"
  },
  "language_info": {
   "codemirror_mode": {
    "name": "ipython",
    "version": 3
   },
   "file_extension": ".py",
   "mimetype": "text/x-python",
   "name": "python",
   "nbconvert_exporter": "python",
   "pygments_lexer": "ipython3",
   "version": "3.8.17"
  }
 },
 "nbformat": 4,
 "nbformat_minor": 5
}
