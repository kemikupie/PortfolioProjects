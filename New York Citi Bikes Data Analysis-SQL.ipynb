{
 "cells": [
  {
   "cell_type": "markdown",
   "id": "353d6e5a-eec5-4a28-b5f9-636998ba4bab",
   "metadata": {},
   "source": [
    "<h1>DATA ANALYSIS OF NEW YORK CITI BIKERS IN SQL </h1>\n"
   ]
  },
  {
   "cell_type": "markdown",
   "id": "0dfa5e4b-6fda-423d-a6d1-d3a7f319ba7c",
   "metadata": {},
   "source": [
    "<h2>Table of Contents</h2>\n",
    "\n",
    "<div class=\"alert alert-block alert-info\" style=\"margin-top: 20px\">\n",
    "<ul>\n",
    "    <li><a href=\"https://#remove duplicates\">Identify and remove duplicates</a></li>\n",
    "    <li><a href=\"https://#identify_handle_missing_values\">Identify and handle missing values</a>\n",
    "        <ul>\n",
    "            <li><a href=\"https://#identify_missing_values\">Identify missing values</a></li>\n",
    "            <li><a href=\"https://#deal_missing_values\">Deal with missing values</a></li>\n",
    "            <li><a href=\"https://#correct_data_format\">Correct data format</a></li>\n",
    "        </ul>\n",
    "    </li>\n",
    "    <li><a href=\"https://#data_standardization\">Data standardization</a></li>\n",
    "    <li><a href=\"https://#data_normalization\">Data normalization (centering/scaling)</a></li>\n",
    "    <li><a href=\"https://#binning\">Binning</a></li>\n",
    "    <li><a href=\"https://#indicator\">Indicator variable</a></li>\n",
    "</ul>\n",
    "\n",
    "</div>\n",
    "\n",
    "<hr>\n"
   ]
  },
  {
   "cell_type": "markdown",
   "id": "652c8846-c0b9-4707-bfbf-4fc77eddb37f",
   "metadata": {},
   "source": [
    "# Install SQLAlchemy"
   ]
  },
  {
   "cell_type": "code",
   "execution_count": 1,
   "id": "2e638d18-3f62-489b-b42a-1edeb0dd85e4",
   "metadata": {},
   "outputs": [
    {
     "name": "stdout",
     "output_type": "stream",
     "text": [
      "Requirement already satisfied: sqlalchemy in c:\\users\\kemik\\appdata\\roaming\\jupyterlab-desktop\\jlab_server\\lib\\site-packages (2.0.19)\n",
      "Requirement already satisfied: typing-extensions>=4.2.0 in c:\\users\\kemik\\appdata\\roaming\\jupyterlab-desktop\\jlab_server\\lib\\site-packages (from sqlalchemy) (4.7.1)\n",
      "Requirement already satisfied: greenlet!=0.4.17 in c:\\users\\kemik\\appdata\\roaming\\jupyterlab-desktop\\jlab_server\\lib\\site-packages (from sqlalchemy) (2.0.2)\n"
     ]
    }
   ],
   "source": [
    "!pip install sqlalchemy"
   ]
  },
  {
   "cell_type": "code",
   "execution_count": 2,
   "id": "47f22d49-b2ba-49c8-8289-9485d89e18ad",
   "metadata": {},
   "outputs": [
    {
     "name": "stdout",
     "output_type": "stream",
     "text": [
      "Requirement already satisfied: pandas in c:\\users\\kemik\\appdata\\roaming\\jupyterlab-desktop\\jlab_server\\lib\\site-packages (2.0.3)\n",
      "Requirement already satisfied: python-dateutil>=2.8.2 in c:\\users\\kemik\\appdata\\roaming\\jupyterlab-desktop\\jlab_server\\lib\\site-packages (from pandas) (2.8.2)\n",
      "Requirement already satisfied: pytz>=2020.1 in c:\\users\\kemik\\appdata\\roaming\\jupyterlab-desktop\\jlab_server\\lib\\site-packages (from pandas) (2023.3)\n",
      "Requirement already satisfied: tzdata>=2022.1 in c:\\users\\kemik\\appdata\\roaming\\jupyterlab-desktop\\jlab_server\\lib\\site-packages (from pandas) (2023.3)\n",
      "Requirement already satisfied: numpy>=1.20.3 in c:\\users\\kemik\\appdata\\roaming\\jupyterlab-desktop\\jlab_server\\lib\\site-packages (from pandas) (1.21.2)\n",
      "Requirement already satisfied: six>=1.5 in c:\\users\\kemik\\appdata\\roaming\\jupyterlab-desktop\\jlab_server\\lib\\site-packages (from python-dateutil>=2.8.2->pandas) (1.16.0)\n",
      "Note: you may need to restart the kernel to use updated packages.\n"
     ]
    }
   ],
   "source": [
    "pip install --upgrade pandas"
   ]
  },
  {
   "cell_type": "markdown",
   "id": "6bc777fd-3287-41ca-8e46-505ed8108d9a",
   "metadata": {},
   "source": [
    "# Install ipython-sql"
   ]
  },
  {
   "cell_type": "markdown",
   "id": "cb0fddbc-2328-44cb-879d-c97b00d7a66f",
   "metadata": {},
   "source": [
    "This is because you might have issues loading ext slq"
   ]
  },
  {
   "cell_type": "code",
   "execution_count": 3,
   "id": "9c131468-5d31-450c-a948-a212ef0d3b61",
   "metadata": {},
   "outputs": [
    {
     "name": "stdout",
     "output_type": "stream",
     "text": [
      "Requirement already satisfied: ipython-sql in c:\\users\\kemik\\appdata\\roaming\\jupyterlab-desktop\\jlab_server\\lib\\site-packages (0.5.0)\n",
      "Requirement already satisfied: prettytable in c:\\users\\kemik\\appdata\\roaming\\jupyterlab-desktop\\jlab_server\\lib\\site-packages (from ipython-sql) (3.8.0)\n",
      "Requirement already satisfied: ipython in c:\\users\\kemik\\appdata\\roaming\\jupyterlab-desktop\\jlab_server\\lib\\site-packages (from ipython-sql) (8.12.0)\n",
      "Requirement already satisfied: sqlalchemy>=2.0 in c:\\users\\kemik\\appdata\\roaming\\jupyterlab-desktop\\jlab_server\\lib\\site-packages (from ipython-sql) (2.0.19)\n",
      "Requirement already satisfied: sqlparse in c:\\users\\kemik\\appdata\\roaming\\jupyterlab-desktop\\jlab_server\\lib\\site-packages (from ipython-sql) (0.4.4)\n",
      "Requirement already satisfied: six in c:\\users\\kemik\\appdata\\roaming\\jupyterlab-desktop\\jlab_server\\lib\\site-packages (from ipython-sql) (1.16.0)\n",
      "Requirement already satisfied: ipython-genutils in c:\\users\\kemik\\appdata\\roaming\\jupyterlab-desktop\\jlab_server\\lib\\site-packages (from ipython-sql) (0.2.0)\n",
      "Requirement already satisfied: typing-extensions>=4.2.0 in c:\\users\\kemik\\appdata\\roaming\\jupyterlab-desktop\\jlab_server\\lib\\site-packages (from sqlalchemy>=2.0->ipython-sql) (4.7.1)\n",
      "Requirement already satisfied: greenlet!=0.4.17 in c:\\users\\kemik\\appdata\\roaming\\jupyterlab-desktop\\jlab_server\\lib\\site-packages (from sqlalchemy>=2.0->ipython-sql) (2.0.2)\n",
      "Requirement already satisfied: backcall in c:\\users\\kemik\\appdata\\roaming\\jupyterlab-desktop\\jlab_server\\lib\\site-packages (from ipython->ipython-sql) (0.2.0)\n",
      "Requirement already satisfied: decorator in c:\\users\\kemik\\appdata\\roaming\\jupyterlab-desktop\\jlab_server\\lib\\site-packages (from ipython->ipython-sql) (5.1.1)\n",
      "Requirement already satisfied: jedi>=0.16 in c:\\users\\kemik\\appdata\\roaming\\jupyterlab-desktop\\jlab_server\\lib\\site-packages (from ipython->ipython-sql) (0.18.2)\n",
      "Requirement already satisfied: matplotlib-inline in c:\\users\\kemik\\appdata\\roaming\\jupyterlab-desktop\\jlab_server\\lib\\site-packages (from ipython->ipython-sql) (0.1.6)\n",
      "Requirement already satisfied: pickleshare in c:\\users\\kemik\\appdata\\roaming\\jupyterlab-desktop\\jlab_server\\lib\\site-packages (from ipython->ipython-sql) (0.7.5)\n",
      "Requirement already satisfied: prompt-toolkit!=3.0.37,<3.1.0,>=3.0.30 in c:\\users\\kemik\\appdata\\roaming\\jupyterlab-desktop\\jlab_server\\lib\\site-packages (from ipython->ipython-sql) (3.0.38)\n",
      "Requirement already satisfied: pygments>=2.4.0 in c:\\users\\kemik\\appdata\\roaming\\jupyterlab-desktop\\jlab_server\\lib\\site-packages (from ipython->ipython-sql) (2.15.1)\n",
      "Requirement already satisfied: stack-data in c:\\users\\kemik\\appdata\\roaming\\jupyterlab-desktop\\jlab_server\\lib\\site-packages (from ipython->ipython-sql) (0.6.2)\n",
      "Requirement already satisfied: traitlets>=5 in c:\\users\\kemik\\appdata\\roaming\\jupyterlab-desktop\\jlab_server\\lib\\site-packages (from ipython->ipython-sql) (5.9.0)\n",
      "Requirement already satisfied: colorama in c:\\users\\kemik\\appdata\\roaming\\jupyterlab-desktop\\jlab_server\\lib\\site-packages (from ipython->ipython-sql) (0.4.6)\n",
      "Requirement already satisfied: wcwidth in c:\\users\\kemik\\appdata\\roaming\\jupyterlab-desktop\\jlab_server\\lib\\site-packages (from prettytable->ipython-sql) (0.2.6)\n",
      "Requirement already satisfied: parso<0.9.0,>=0.8.0 in c:\\users\\kemik\\appdata\\roaming\\jupyterlab-desktop\\jlab_server\\lib\\site-packages (from jedi>=0.16->ipython->ipython-sql) (0.8.3)\n",
      "Requirement already satisfied: executing>=1.2.0 in c:\\users\\kemik\\appdata\\roaming\\jupyterlab-desktop\\jlab_server\\lib\\site-packages (from stack-data->ipython->ipython-sql) (1.2.0)\n",
      "Requirement already satisfied: asttokens>=2.1.0 in c:\\users\\kemik\\appdata\\roaming\\jupyterlab-desktop\\jlab_server\\lib\\site-packages (from stack-data->ipython->ipython-sql) (2.2.1)\n",
      "Requirement already satisfied: pure-eval in c:\\users\\kemik\\appdata\\roaming\\jupyterlab-desktop\\jlab_server\\lib\\site-packages (from stack-data->ipython->ipython-sql) (0.2.2)\n"
     ]
    }
   ],
   "source": [
    "!pip install ipython-sql"
   ]
  },
  {
   "cell_type": "markdown",
   "id": "290248f9-f587-4d41-8e0c-1d666ace8509",
   "metadata": {},
   "source": [
    "# Import software libraries"
   ]
  },
  {
   "cell_type": "code",
   "execution_count": 4,
   "id": "dbe11c88-b86f-4434-b1b2-e3e61ffea2ce",
   "metadata": {},
   "outputs": [],
   "source": [
    "import pandas as pd\n",
    "import sqlalchemy\n",
    "import sqlite3"
   ]
  },
  {
   "cell_type": "code",
   "execution_count": 5,
   "id": "ef0b4e45-e231-47ef-844a-e87913ec2a5f",
   "metadata": {},
   "outputs": [],
   "source": [
    "%load_ext sql"
   ]
  },
  {
   "cell_type": "markdown",
   "id": "52cf3d8a-1a31-46bf-b515-4265e1a18fe9",
   "metadata": {},
   "source": [
    "# Create a SQLite connection"
   ]
  },
  {
   "cell_type": "code",
   "execution_count": 6,
   "id": "fe3b70c5-4ba3-4b4b-b17e-5708b1a24f30",
   "metadata": {},
   "outputs": [],
   "source": [
    "engine = sqlalchemy.create_engine('sqlite:///citibikes.db')"
   ]
  },
  {
   "cell_type": "markdown",
   "id": "c2a0b461-3651-447b-a86c-8608c177ef82",
   "metadata": {},
   "source": [
    "# Connect to the SQLite database"
   ]
  },
  {
   "cell_type": "code",
   "execution_count": 7,
   "id": "846d7818-41cb-4e36-8510-72ff094fe1cd",
   "metadata": {},
   "outputs": [],
   "source": [
    "%sql sqlite:///citibikes.db"
   ]
  },
  {
   "cell_type": "markdown",
   "id": "08c24549-5fdd-4d14-ae4f-ef7ed94a6c31",
   "metadata": {},
   "source": [
    "# Load the dataset as a `DataFrame`"
   ]
  },
  {
   "cell_type": "code",
   "execution_count": 8,
   "id": "054943bb-d282-48dc-a85f-2604b4306018",
   "metadata": {},
   "outputs": [],
   "source": [
    "NY_Citi_Bikes_data=pd.read_csv('Datasets/New York Citi Bikes_Raw Data - NYCitiBikes (1).csv')"
   ]
  },
  {
   "cell_type": "code",
   "execution_count": 9,
   "id": "df5e15c2-21ab-42e1-ae06-942e15f621d3",
   "metadata": {},
   "outputs": [
    {
     "data": {
      "text/html": [
       "<div>\n",
       "<style scoped>\n",
       "    .dataframe tbody tr th:only-of-type {\n",
       "        vertical-align: middle;\n",
       "    }\n",
       "\n",
       "    .dataframe tbody tr th {\n",
       "        vertical-align: top;\n",
       "    }\n",
       "\n",
       "    .dataframe thead th {\n",
       "        text-align: right;\n",
       "    }\n",
       "</style>\n",
       "<table border=\"1\" class=\"dataframe\">\n",
       "  <thead>\n",
       "    <tr style=\"text-align: right;\">\n",
       "      <th></th>\n",
       "      <th>Start Time</th>\n",
       "      <th>Stop Time</th>\n",
       "      <th>Start Station ID</th>\n",
       "      <th>Start Station Name</th>\n",
       "      <th>End Station ID</th>\n",
       "      <th>End Station Name</th>\n",
       "      <th>Bike ID</th>\n",
       "      <th>User Type</th>\n",
       "      <th>Birth Year</th>\n",
       "      <th>Age</th>\n",
       "      <th>Age Groups</th>\n",
       "      <th>Trip Duration</th>\n",
       "      <th>Trip_Duration_in_min</th>\n",
       "      <th>Month</th>\n",
       "      <th>Season</th>\n",
       "      <th>Temperature</th>\n",
       "      <th>Weekday</th>\n",
       "    </tr>\n",
       "  </thead>\n",
       "  <tbody>\n",
       "    <tr>\n",
       "      <th>0</th>\n",
       "      <td>01-01-17 00:38</td>\n",
       "      <td>1-1-17 01:03</td>\n",
       "      <td>3194</td>\n",
       "      <td>McGinley Square</td>\n",
       "      <td>3271</td>\n",
       "      <td>Danforth Light Rail</td>\n",
       "      <td>24668</td>\n",
       "      <td>Subscriber</td>\n",
       "      <td>1961</td>\n",
       "      <td>60</td>\n",
       "      <td>55-64</td>\n",
       "      <td>1513</td>\n",
       "      <td>25</td>\n",
       "      <td>1</td>\n",
       "      <td>Winter</td>\n",
       "      <td>10</td>\n",
       "      <td>Sunday</td>\n",
       "    </tr>\n",
       "    <tr>\n",
       "      <th>1</th>\n",
       "      <td>01-01-17 01:47</td>\n",
       "      <td>01-01-17 01:58</td>\n",
       "      <td>3183</td>\n",
       "      <td>Exchange Place</td>\n",
       "      <td>3203</td>\n",
       "      <td>Hamilton Park</td>\n",
       "      <td>26167</td>\n",
       "      <td>Subscriber</td>\n",
       "      <td>1993</td>\n",
       "      <td>28</td>\n",
       "      <td>25-34</td>\n",
       "      <td>639</td>\n",
       "      <td>11</td>\n",
       "      <td>1</td>\n",
       "      <td>Winter</td>\n",
       "      <td>10</td>\n",
       "      <td>Sunday</td>\n",
       "    </tr>\n",
       "    <tr>\n",
       "      <th>2</th>\n",
       "      <td>01-01-17 01:47</td>\n",
       "      <td>01-01-17 01:58</td>\n",
       "      <td>3183</td>\n",
       "      <td>Exchange Place</td>\n",
       "      <td>3203</td>\n",
       "      <td>Hamilton Park</td>\n",
       "      <td>26167</td>\n",
       "      <td>Subscriber</td>\n",
       "      <td>1993</td>\n",
       "      <td>28</td>\n",
       "      <td>25-34</td>\n",
       "      <td>639</td>\n",
       "      <td>11</td>\n",
       "      <td>1</td>\n",
       "      <td>Winter</td>\n",
       "      <td>10</td>\n",
       "      <td>Sunday</td>\n",
       "    </tr>\n",
       "    <tr>\n",
       "      <th>3</th>\n",
       "      <td>01-01-17 01:56</td>\n",
       "      <td>01-01-17 02:00</td>\n",
       "      <td>3186</td>\n",
       "      <td>Grove St PATH</td>\n",
       "      <td>3270</td>\n",
       "      <td>Jersey &amp; 6th St</td>\n",
       "      <td>24604</td>\n",
       "      <td>Subscriber</td>\n",
       "      <td>1970</td>\n",
       "      <td>51</td>\n",
       "      <td>45-54</td>\n",
       "      <td>258</td>\n",
       "      <td>4</td>\n",
       "      <td>1</td>\n",
       "      <td>Winter</td>\n",
       "      <td>10</td>\n",
       "      <td>Sunday</td>\n",
       "    </tr>\n",
       "    <tr>\n",
       "      <th>4</th>\n",
       "      <td>1-1-17 02:12</td>\n",
       "      <td>01-01-17 02:23</td>\n",
       "      <td>3270</td>\n",
       "      <td>Jersey &amp; 6th St</td>\n",
       "      <td>3206</td>\n",
       "      <td>Hilltop</td>\n",
       "      <td>24641</td>\n",
       "      <td>Subscriber</td>\n",
       "      <td>1978</td>\n",
       "      <td>43</td>\n",
       "      <td>35-44</td>\n",
       "      <td>663</td>\n",
       "      <td>11</td>\n",
       "      <td>1</td>\n",
       "      <td>Winter</td>\n",
       "      <td>10</td>\n",
       "      <td>Sunday</td>\n",
       "    </tr>\n",
       "    <tr>\n",
       "      <th>...</th>\n",
       "      <td>...</td>\n",
       "      <td>...</td>\n",
       "      <td>...</td>\n",
       "      <td>...</td>\n",
       "      <td>...</td>\n",
       "      <td>...</td>\n",
       "      <td>...</td>\n",
       "      <td>...</td>\n",
       "      <td>...</td>\n",
       "      <td>...</td>\n",
       "      <td>...</td>\n",
       "      <td>...</td>\n",
       "      <td>...</td>\n",
       "      <td>...</td>\n",
       "      <td>...</td>\n",
       "      <td>...</td>\n",
       "      <td>...</td>\n",
       "    </tr>\n",
       "    <tr>\n",
       "      <th>20395</th>\n",
       "      <td>31-03-17 21:06</td>\n",
       "      <td>31-03-17 21:10</td>\n",
       "      <td>3186</td>\n",
       "      <td>Grove St PATH</td>\n",
       "      <td>3203</td>\n",
       "      <td>Hamilton Park</td>\n",
       "      <td>24608</td>\n",
       "      <td>Subscriber</td>\n",
       "      <td>1968</td>\n",
       "      <td>53</td>\n",
       "      <td>45-54</td>\n",
       "      <td>244</td>\n",
       "      <td>4</td>\n",
       "      <td>3</td>\n",
       "      <td>Spring</td>\n",
       "      <td>18</td>\n",
       "      <td>Friday</td>\n",
       "    </tr>\n",
       "    <tr>\n",
       "      <th>20396</th>\n",
       "      <td>31-03-17 21:13</td>\n",
       "      <td>31-3-17 21:18</td>\n",
       "      <td>3195</td>\n",
       "      <td>Sip Ave</td>\n",
       "      <td>3194</td>\n",
       "      <td>McGinley Square</td>\n",
       "      <td>29219</td>\n",
       "      <td>Subscriber</td>\n",
       "      <td>1956</td>\n",
       "      <td>65</td>\n",
       "      <td>65-74</td>\n",
       "      <td>264</td>\n",
       "      <td>4</td>\n",
       "      <td>3</td>\n",
       "      <td>Spring</td>\n",
       "      <td>18</td>\n",
       "      <td>Friday</td>\n",
       "    </tr>\n",
       "    <tr>\n",
       "      <th>20397</th>\n",
       "      <td>31-03-17 21:13</td>\n",
       "      <td>31-3-17 21:18</td>\n",
       "      <td>3195</td>\n",
       "      <td>Sip Ave</td>\n",
       "      <td>3194</td>\n",
       "      <td>McGinley Square</td>\n",
       "      <td>29219</td>\n",
       "      <td>Subscriber</td>\n",
       "      <td>1956</td>\n",
       "      <td>65</td>\n",
       "      <td>65-74</td>\n",
       "      <td>264</td>\n",
       "      <td>4</td>\n",
       "      <td>3</td>\n",
       "      <td>Spring</td>\n",
       "      <td>18</td>\n",
       "      <td>Friday</td>\n",
       "    </tr>\n",
       "    <tr>\n",
       "      <th>20398</th>\n",
       "      <td>31-03-17 21:26</td>\n",
       "      <td>31-03-17 21:30</td>\n",
       "      <td>3195</td>\n",
       "      <td>Sip Ave</td>\n",
       "      <td>3201</td>\n",
       "      <td>Dey St</td>\n",
       "      <td>29276</td>\n",
       "      <td>Subscriber</td>\n",
       "      <td>1970</td>\n",
       "      <td>51</td>\n",
       "      <td>45-54</td>\n",
       "      <td>239</td>\n",
       "      <td>4</td>\n",
       "      <td>3</td>\n",
       "      <td>Spring</td>\n",
       "      <td>18</td>\n",
       "      <td>Friday</td>\n",
       "    </tr>\n",
       "    <tr>\n",
       "      <th>20399</th>\n",
       "      <td>31-3-17 23:20</td>\n",
       "      <td>31-03-17 23:30</td>\n",
       "      <td>3272</td>\n",
       "      <td>Jersey &amp; 3rd</td>\n",
       "      <td>3268</td>\n",
       "      <td>Lafayette Park</td>\n",
       "      <td>24398</td>\n",
       "      <td>Subscriber</td>\n",
       "      <td>1984</td>\n",
       "      <td>37</td>\n",
       "      <td>35-44</td>\n",
       "      <td>618</td>\n",
       "      <td>10</td>\n",
       "      <td>3</td>\n",
       "      <td>Spring</td>\n",
       "      <td>18</td>\n",
       "      <td>Friday</td>\n",
       "    </tr>\n",
       "  </tbody>\n",
       "</table>\n",
       "<p>20400 rows × 17 columns</p>\n",
       "</div>"
      ],
      "text/plain": [
       "           Start Time       Stop Time  Start Station ID Start Station Name  \\\n",
       "0      01-01-17 00:38    1-1-17 01:03              3194    McGinley Square   \n",
       "1      01-01-17 01:47  01-01-17 01:58              3183     Exchange Place   \n",
       "2      01-01-17 01:47  01-01-17 01:58              3183     Exchange Place   \n",
       "3      01-01-17 01:56  01-01-17 02:00              3186      Grove St PATH   \n",
       "4        1-1-17 02:12  01-01-17 02:23              3270    Jersey & 6th St   \n",
       "...               ...             ...               ...                ...   \n",
       "20395  31-03-17 21:06  31-03-17 21:10              3186      Grove St PATH   \n",
       "20396  31-03-17 21:13   31-3-17 21:18              3195            Sip Ave   \n",
       "20397  31-03-17 21:13   31-3-17 21:18              3195            Sip Ave   \n",
       "20398  31-03-17 21:26  31-03-17 21:30              3195            Sip Ave   \n",
       "20399   31-3-17 23:20  31-03-17 23:30              3272       Jersey & 3rd   \n",
       "\n",
       "       End Station ID     End Station Name  Bike ID   User Type  Birth Year  \\\n",
       "0                3271  Danforth Light Rail    24668  Subscriber        1961   \n",
       "1                3203        Hamilton Park    26167  Subscriber        1993   \n",
       "2                3203        Hamilton Park    26167  Subscriber        1993   \n",
       "3                3270      Jersey & 6th St    24604  Subscriber        1970   \n",
       "4                3206              Hilltop    24641  Subscriber        1978   \n",
       "...               ...                  ...      ...         ...         ...   \n",
       "20395            3203        Hamilton Park    24608  Subscriber        1968   \n",
       "20396            3194      McGinley Square    29219  Subscriber        1956   \n",
       "20397            3194      McGinley Square    29219  Subscriber        1956   \n",
       "20398            3201               Dey St    29276  Subscriber        1970   \n",
       "20399            3268       Lafayette Park    24398  Subscriber        1984   \n",
       "\n",
       "       Age Age Groups  Trip Duration Trip_Duration_in_min  Month  Season  \\\n",
       "0       60      55-64           1513                   25      1  Winter   \n",
       "1       28      25-34            639                   11      1  Winter   \n",
       "2       28      25-34            639                   11      1  Winter   \n",
       "3       51      45-54            258                    4      1  Winter   \n",
       "4       43      35-44            663                   11      1  Winter   \n",
       "...    ...        ...            ...                  ...    ...     ...   \n",
       "20395   53      45-54            244                    4      3  Spring   \n",
       "20396   65      65-74            264                    4      3  Spring   \n",
       "20397   65      65-74            264                    4      3  Spring   \n",
       "20398   51      45-54            239                    4      3  Spring   \n",
       "20399   37      35-44            618                   10      3  Spring   \n",
       "\n",
       "       Temperature Weekday  \n",
       "0               10  Sunday  \n",
       "1               10  Sunday  \n",
       "2               10  Sunday  \n",
       "3               10  Sunday  \n",
       "4               10  Sunday  \n",
       "...            ...     ...  \n",
       "20395           18  Friday  \n",
       "20396           18  Friday  \n",
       "20397           18  Friday  \n",
       "20398           18  Friday  \n",
       "20399           18  Friday  \n",
       "\n",
       "[20400 rows x 17 columns]"
      ]
     },
     "execution_count": 9,
     "metadata": {},
     "output_type": "execute_result"
    }
   ],
   "source": [
    "NY_Citi_Bikes_data"
   ]
  },
  {
   "cell_type": "code",
   "execution_count": 10,
   "id": "1a2afe36-e03d-47e9-a770-887a860c08d9",
   "metadata": {},
   "outputs": [
    {
     "data": {
      "text/html": [
       "<div>\n",
       "<style scoped>\n",
       "    .dataframe tbody tr th:only-of-type {\n",
       "        vertical-align: middle;\n",
       "    }\n",
       "\n",
       "    .dataframe tbody tr th {\n",
       "        vertical-align: top;\n",
       "    }\n",
       "\n",
       "    .dataframe thead th {\n",
       "        text-align: right;\n",
       "    }\n",
       "</style>\n",
       "<table border=\"1\" class=\"dataframe\">\n",
       "  <thead>\n",
       "    <tr style=\"text-align: right;\">\n",
       "      <th></th>\n",
       "      <th>Start Time</th>\n",
       "      <th>Stop Time</th>\n",
       "      <th>Start Station ID</th>\n",
       "      <th>Start Station Name</th>\n",
       "      <th>End Station ID</th>\n",
       "      <th>End Station Name</th>\n",
       "      <th>Bike ID</th>\n",
       "      <th>User Type</th>\n",
       "      <th>Birth Year</th>\n",
       "      <th>Age</th>\n",
       "      <th>Age Groups</th>\n",
       "      <th>Trip Duration</th>\n",
       "      <th>Trip_Duration_in_min</th>\n",
       "      <th>Month</th>\n",
       "      <th>Season</th>\n",
       "      <th>Temperature</th>\n",
       "      <th>Weekday</th>\n",
       "    </tr>\n",
       "  </thead>\n",
       "  <tbody>\n",
       "    <tr>\n",
       "      <th>0</th>\n",
       "      <td>01-01-17 00:38</td>\n",
       "      <td>1-1-17 01:03</td>\n",
       "      <td>3194</td>\n",
       "      <td>McGinley Square</td>\n",
       "      <td>3271</td>\n",
       "      <td>Danforth Light Rail</td>\n",
       "      <td>24668</td>\n",
       "      <td>Subscriber</td>\n",
       "      <td>1961</td>\n",
       "      <td>60</td>\n",
       "      <td>55-64</td>\n",
       "      <td>1513</td>\n",
       "      <td>25</td>\n",
       "      <td>1</td>\n",
       "      <td>Winter</td>\n",
       "      <td>10</td>\n",
       "      <td>Sunday</td>\n",
       "    </tr>\n",
       "    <tr>\n",
       "      <th>1</th>\n",
       "      <td>01-01-17 01:47</td>\n",
       "      <td>01-01-17 01:58</td>\n",
       "      <td>3183</td>\n",
       "      <td>Exchange Place</td>\n",
       "      <td>3203</td>\n",
       "      <td>Hamilton Park</td>\n",
       "      <td>26167</td>\n",
       "      <td>Subscriber</td>\n",
       "      <td>1993</td>\n",
       "      <td>28</td>\n",
       "      <td>25-34</td>\n",
       "      <td>639</td>\n",
       "      <td>11</td>\n",
       "      <td>1</td>\n",
       "      <td>Winter</td>\n",
       "      <td>10</td>\n",
       "      <td>Sunday</td>\n",
       "    </tr>\n",
       "    <tr>\n",
       "      <th>2</th>\n",
       "      <td>01-01-17 01:47</td>\n",
       "      <td>01-01-17 01:58</td>\n",
       "      <td>3183</td>\n",
       "      <td>Exchange Place</td>\n",
       "      <td>3203</td>\n",
       "      <td>Hamilton Park</td>\n",
       "      <td>26167</td>\n",
       "      <td>Subscriber</td>\n",
       "      <td>1993</td>\n",
       "      <td>28</td>\n",
       "      <td>25-34</td>\n",
       "      <td>639</td>\n",
       "      <td>11</td>\n",
       "      <td>1</td>\n",
       "      <td>Winter</td>\n",
       "      <td>10</td>\n",
       "      <td>Sunday</td>\n",
       "    </tr>\n",
       "  </tbody>\n",
       "</table>\n",
       "</div>"
      ],
      "text/plain": [
       "       Start Time       Stop Time  Start Station ID Start Station Name  \\\n",
       "0  01-01-17 00:38    1-1-17 01:03              3194    McGinley Square   \n",
       "1  01-01-17 01:47  01-01-17 01:58              3183     Exchange Place   \n",
       "2  01-01-17 01:47  01-01-17 01:58              3183     Exchange Place   \n",
       "\n",
       "   End Station ID     End Station Name  Bike ID   User Type  Birth Year  Age  \\\n",
       "0            3271  Danforth Light Rail    24668  Subscriber        1961   60   \n",
       "1            3203        Hamilton Park    26167  Subscriber        1993   28   \n",
       "2            3203        Hamilton Park    26167  Subscriber        1993   28   \n",
       "\n",
       "  Age Groups  Trip Duration Trip_Duration_in_min  Month  Season  Temperature  \\\n",
       "0      55-64           1513                   25      1  Winter           10   \n",
       "1      25-34            639                   11      1  Winter           10   \n",
       "2      25-34            639                   11      1  Winter           10   \n",
       "\n",
       "  Weekday  \n",
       "0  Sunday  \n",
       "1  Sunday  \n",
       "2  Sunday  "
      ]
     },
     "execution_count": 10,
     "metadata": {},
     "output_type": "execute_result"
    }
   ],
   "source": [
    "NY_Citi_Bikes_data.head(3)"
   ]
  },
  {
   "cell_type": "markdown",
   "id": "7a3178da-0c13-4f81-b3ed-b09c7ce4a952",
   "metadata": {},
   "source": [
    "# Store the DataFrame in the SQLite database"
   ]
  },
  {
   "cell_type": "code",
   "execution_count": 11,
   "id": "e042e40f-33ac-4823-8d4a-b32f5d9f2b63",
   "metadata": {},
   "outputs": [
    {
     "data": {
      "text/plain": [
       "20400"
      ]
     },
     "execution_count": 11,
     "metadata": {},
     "output_type": "execute_result"
    }
   ],
   "source": [
    "NY_Citi_Bikes_data.to_sql('NYCitiBikesdata', con=engine, if_exists='replace')"
   ]
  },
  {
   "cell_type": "code",
   "execution_count": 12,
   "id": "ecc42dc9-696f-44f9-98c9-47dd00a23e0f",
   "metadata": {},
   "outputs": [
    {
     "name": "stdout",
     "output_type": "stream",
     "text": [
      " * sqlite:///citibikes.db\n",
      "Done.\n"
     ]
    }
   ],
   "source": [
    "results = %sql SELECT * FROM NYCitiBikesdata;"
   ]
  },
  {
   "cell_type": "markdown",
   "id": "112cbe17-9a9d-48f1-9e45-25754f7f6614",
   "metadata": {},
   "source": [
    "conn = sqlite3.connect('citibikes.db')\n",
    "cursor=conn.cursor()\n",
    "data=cursor.execute('''SELECT * FROM NYCitiBikesdata''')\n",
    "print(data.description)"
   ]
  },
  {
   "cell_type": "markdown",
   "id": "f123fa5f-517b-44bb-a398-299c0a2926a8",
   "metadata": {},
   "source": [
    "# Identify all duplicated data"
   ]
  },
  {
   "cell_type": "code",
   "execution_count": 17,
   "id": "77df87b9-3905-494b-b1e2-824ce00a2814",
   "metadata": {},
   "outputs": [
    {
     "name": "stdout",
     "output_type": "stream",
     "text": [
      " * sqlite:///citibikes.db\n",
      "Done.\n"
     ]
    }
   ],
   "source": [
    "#To select a column name with spaces, use the back tick symbol with column name. The symbol is ( ` `). Back tick is displayed in the keyboard below the tilde operator ( ~)\n",
    "\n",
    "duplicated_data = %sql SELECT * from NYCitiBikesdata GROUP BY `Start Time`, `Stop Time` HAVING COUNT(*) > 1\n"
   ]
  },
  {
   "cell_type": "code",
   "execution_count": 18,
   "id": "685a53fd-e522-482e-a447-75593c322337",
   "metadata": {},
   "outputs": [],
   "source": [
    "#duplicated_data"
   ]
  },
  {
   "cell_type": "markdown",
   "id": "804c42f6-9f8b-46dd-b094-0fba54714919",
   "metadata": {},
   "source": [
    "# Remove the duplicated data"
   ]
  },
  {
   "cell_type": "code",
   "execution_count": 19,
   "id": "231d5567-8619-4ba4-bc62-13cecf1b90df",
   "metadata": {},
   "outputs": [
    {
     "name": "stdout",
     "output_type": "stream",
     "text": [
      " * sqlite:///citibikes.db\n",
      "Done.\n"
     ]
    }
   ],
   "source": [
    "NY_Citi_Bikes_data_wt_duplicates= %sql SELECT DISTINCT * FROM NYCitiBikesdata GROUP BY ;"
   ]
  },
  {
   "cell_type": "code",
   "execution_count": 1,
   "id": "79253300-b800-4e28-822c-200b35e22e5d",
   "metadata": {},
   "outputs": [],
   "source": [
    "#NY_Citi_Bikes_data_wt_duplicates"
   ]
  },
  {
   "cell_type": "code",
   "execution_count": null,
   "id": "50042555-6a11-405f-8e86-f350a7538dcc",
   "metadata": {
    "colab": {
     "base_uri": "https://localhost:8080/",
     "height": 479
    },
    "executionInfo": {
     "elapsed": 2562,
     "status": "ok",
     "timestamp": 1613256970329,
     "user": {
      "displayName": "Sarah Haq",
      "photoUrl": "https://lh3.googleusercontent.com/a-/AOh14Gh7vs3P5_F3LYi7bEV8r1vbltDxEgpoYXmxHgxGBw=s64",
      "userId": "16294508270436203551"
     },
     "user_tz": -60
    },
    "id": "I6WQgPvbubNS",
    "outputId": "b41c38b3-6ee5-44df-adb5-f6c09d503f46"
   },
   "outputs": [],
   "source": [
    "NY_Citi_Bikes_data_wt_duplicates=NY_Citi_Bikes_data[~NY_Citi_Bikes_data.duplicated()]"
   ]
  },
  {
   "cell_type": "code",
   "execution_count": null,
   "id": "f3de315d-67e4-4fb8-98d1-0e27bd9d4c19",
   "metadata": {},
   "outputs": [],
   "source": [
    "NY_Citi_Bikes_data_wt_duplicates"
   ]
  },
  {
   "cell_type": "markdown",
   "id": "2796a9b9-b2d7-436c-83b8-f6d8edd0141c",
   "metadata": {},
   "source": [
    "# Identify and handle missing values"
   ]
  },
  {
   "cell_type": "markdown",
   "id": "e1c41517-cc06-4e03-b4b7-433d62c1507d",
   "metadata": {},
   "source": [
    "In the dataset, missing data comes with the question mark \"?\". We replace \"?\" with NaN (Not a Number), Python's default missing value marker for reasons of computational speed and convenience. Here we use the function:\r\n",
    ".replace(A, B, inplace = True) \r\n",
    "to replace A by B."
   ]
  },
  {
   "cell_type": "code",
   "execution_count": null,
   "id": "4a768a3c-81a2-4daf-b610-0c2c90d4d380",
   "metadata": {},
   "outputs": [],
   "source": [
    "import numpy as np\n",
    "\n",
    "# replace \"?\" to NaN\n",
    "NY_Citi_Bikes_data_wt_duplicates.replace(\"?\", np.nan, inplace = True)\n"
   ]
  },
  {
   "cell_type": "markdown",
   "id": "545c7b29-6072-473f-9ea0-8905236a5ceb",
   "metadata": {},
   "source": [
    "# Evaluating for Missing Data"
   ]
  },
  {
   "cell_type": "markdown",
   "id": "34cd7501-5423-4493-9775-2c35b4840abd",
   "metadata": {},
   "source": [
    "The missing values are converted by default. We use the following functions to identify these missing values. There are two methods to detect missing data:\n",
    "\n",
    ".isnull()\n",
    ".notnull()\n",
    "The output is a boolean value indicating whether the value that is passed into the argument is in fact missing data."
   ]
  },
  {
   "cell_type": "code",
   "execution_count": null,
   "id": "a0abcc26-058c-4df6-aa95-853b2d95f254",
   "metadata": {},
   "outputs": [],
   "source": [
    "missing_data =NY_Citi_Bikes_data_wt_duplicates.isnull()\n",
    "missing_data.head(5)"
   ]
  },
  {
   "cell_type": "markdown",
   "id": "ad0afd7e-36e4-4d8d-9f19-e44d9a0a5b66",
   "metadata": {},
   "source": [
    "\"True\" means the value is a missing value while \"False\" means the value is not a missing value."
   ]
  },
  {
   "cell_type": "markdown",
   "id": "dca6f4b9-c3ab-46fb-9b0e-d50fd4379a7d",
   "metadata": {},
   "source": [
    "# Count missing values in each column"
   ]
  },
  {
   "cell_type": "markdown",
   "id": "d2883c67-77c1-411c-b8f6-8af01bdfc9ac",
   "metadata": {},
   "source": [
    "Using a for loop in Python, we can quickly figure out the number of missing values in each column. As mentioned above, \"True\" represents a missing value and \"False\" means the value is present in the dataset. In the body of the for loop the method \".value_counts()\" counts the number of \"True\" values."
   ]
  },
  {
   "cell_type": "code",
   "execution_count": null,
   "id": "ef89ba2e-b602-489f-aeff-7cde40aaaa61",
   "metadata": {},
   "outputs": [],
   "source": [
    "for column in missing_data.columns.values.tolist():\n",
    "    print(column)\n",
    "    print (missing_data[column].value_counts())\n",
    "    print(\"\") "
   ]
  },
  {
   "cell_type": "markdown",
   "id": "29627b7a-bd9a-415a-bc13-2e6a825f1588",
   "metadata": {},
   "source": [
    "Based on the summary above, each column has 18450 rows of data and only one of the columns containing missing data:\n",
    "\n",
    "<ul>\n",
    "    <li>\"End Station Name\": 1 missing data</li>\n",
    "</ul>\n",
    "To deal with this missing data, we will be deleting the entire row\n",
    "let's drop all rows that do not have End Station Name data"
   ]
  },
  {
   "cell_type": "code",
   "execution_count": null,
   "id": "d7d344e4-3149-4749-83b0-1b484ad92bd1",
   "metadata": {},
   "outputs": [],
   "source": [
    "# Drop whole row with NaN in \"End Station Name\" column\n",
    "NY_Citi_Bikes_data_wt_duplicates.dropna(subset=[\"End Station Name\"], axis=0, inplace=True)\n",
    "\n",
    "# reset index, because we droped one row\n",
    "NY_Citi_Bikes_data_wt_duplicates.reset_index(drop=True, inplace=True)"
   ]
  },
  {
   "cell_type": "code",
   "execution_count": null,
   "id": "7b0e316b-a0bd-4346-8cac-fe0c4c2c54ca",
   "metadata": {},
   "outputs": [],
   "source": [
    "NY_Citi_Bikes_data_wt_duplicates"
   ]
  },
  {
   "cell_type": "markdown",
   "id": "f04cc8e2-6953-44b5-ab41-526dce127587",
   "metadata": {},
   "source": [
    "Good! Now, we have a dataset with no duplicates and no missing values."
   ]
  },
  {
   "cell_type": "markdown",
   "id": "7d2ca4d6-74b0-4f6e-8923-5827d08e5999",
   "metadata": {},
   "source": [
    "# Check to see if all data formats are correct"
   ]
  },
  {
   "cell_type": "code",
   "execution_count": null,
   "id": "8fdb4e3a-d480-4774-a7e5-862e3981a4d3",
   "metadata": {},
   "outputs": [],
   "source": [
    "NY_Citi_Bikes_data_wt_duplicates.dtypes"
   ]
  },
  {
   "cell_type": "code",
   "execution_count": null,
   "id": "b5e776f1-2ff3-48ec-9a08-00dc389c901c",
   "metadata": {},
   "outputs": [],
   "source": [
    "NY_Citi_Bikes_data_wt_duplicates.info()"
   ]
  },
  {
   "cell_type": "code",
   "execution_count": null,
   "id": "7af7aab5-c529-4845-956a-ae31b9cf4e1b",
   "metadata": {},
   "outputs": [],
   "source": [
    "#NY_Citi_Bikes_data_wt_duplicates['Start Time']=pd.to_datetime(NY_Citi_Bikes_data_wt_duplicates['Start Time'], format='%d-%m-%Y %H:%M')"
   ]
  },
  {
   "cell_type": "markdown",
   "id": "8b017a73-30ba-4813-ba2e-4beb9c479930",
   "metadata": {},
   "source": [
    "Remove all commas from the column 'Trip_Duration_in_min'"
   ]
  },
  {
   "cell_type": "code",
   "execution_count": null,
   "id": "73d58d0e-6535-4214-806b-d6fdd9215ebd",
   "metadata": {},
   "outputs": [],
   "source": [
    "#Remove all commas from the column \n",
    "NY_Citi_Bikes_data_wt_duplicates['Trip_Duration_in_min']=\\\n",
    "NY_Citi_Bikes_data_wt_duplicates['Trip_Duration_in_min'].str.replace(',','')\n"
   ]
  },
  {
   "cell_type": "code",
   "execution_count": null,
   "id": "83e1995d-f1f6-45aa-bd73-8fb41b33ac81",
   "metadata": {},
   "outputs": [],
   "source": [
    "#Change the column data type to int64\n",
    "NY_Citi_Bikes_data_wt_duplicates['Trip_Duration_in_min']=\\\n",
    "NY_Citi_Bikes_data_wt_duplicates['Trip_Duration_in_min'].astype('int64')"
   ]
  },
  {
   "cell_type": "code",
   "execution_count": null,
   "id": "ca30e38c-2801-404e-b885-be1a2579dc6d",
   "metadata": {},
   "outputs": [],
   "source": [
    "NY_Citi_Bikes_data_wt_duplicates.info()"
   ]
  },
  {
   "cell_type": "code",
   "execution_count": null,
   "id": "754434fc-2f9b-412a-be9a-c50f68e53152",
   "metadata": {},
   "outputs": [],
   "source": [
    "NY_Citi_Bikes_data_wt_duplicates"
   ]
  },
  {
   "cell_type": "markdown",
   "id": "2a27b885-f516-4786-b430-40c7a3d0290f",
   "metadata": {},
   "source": [
    "# Calculate descriptive statistics for “Trip duration” Column"
   ]
  },
  {
   "cell_type": "code",
   "execution_count": null,
   "id": "b38f6a3a-63fc-42e8-9e4b-2b94da6e047c",
   "metadata": {},
   "outputs": [],
   "source": [
    "NY_Citi_Bikes_data_wt_duplicates['Trip_Duration_in_min'].mean()"
   ]
  },
  {
   "cell_type": "code",
   "execution_count": null,
   "id": "d86b51a6-3b05-49de-971a-ea50010d5475",
   "metadata": {},
   "outputs": [],
   "source": [
    "NY_Citi_Bikes_data_wt_duplicates['Trip_Duration_in_min'].median()"
   ]
  },
  {
   "cell_type": "code",
   "execution_count": null,
   "id": "f811a030-34c4-40fe-92be-334b791c4e99",
   "metadata": {},
   "outputs": [],
   "source": [
    "NY_Citi_Bikes_data_wt_duplicates['Trip_Duration_in_min'].min()"
   ]
  },
  {
   "cell_type": "code",
   "execution_count": null,
   "id": "aec3e64e-e4dc-4919-8651-6c07374f041a",
   "metadata": {},
   "outputs": [],
   "source": [
    "NY_Citi_Bikes_data_wt_duplicates['Trip_Duration_in_min'].max()"
   ]
  },
  {
   "cell_type": "markdown",
   "id": "e3832c3f-d4fe-447d-a206-b5f321ba36a2",
   "metadata": {},
   "source": [
    "# Calculate descriptive statistics for “Age” Column"
   ]
  },
  {
   "cell_type": "code",
   "execution_count": null,
   "id": "67c097fb-0e5c-4a42-be11-36841d192a23",
   "metadata": {},
   "outputs": [],
   "source": [
    "NY_Citi_Bikes_data_wt_duplicates['Age'].mean()"
   ]
  },
  {
   "cell_type": "code",
   "execution_count": null,
   "id": "8b243971-8c3e-4239-90c7-fd10d19b76de",
   "metadata": {},
   "outputs": [],
   "source": [
    "NY_Citi_Bikes_data_wt_duplicates['Age'].median()"
   ]
  },
  {
   "cell_type": "code",
   "execution_count": null,
   "id": "85360490-5e99-4bb7-bc5b-8ef487906a0f",
   "metadata": {},
   "outputs": [],
   "source": [
    "NY_Citi_Bikes_data_wt_duplicates['Age'].min()"
   ]
  },
  {
   "cell_type": "code",
   "execution_count": null,
   "id": "5803568f-de89-45c2-a319-1fe74d0e1d40",
   "metadata": {},
   "outputs": [],
   "source": [
    "NY_Citi_Bikes_data_wt_duplicates['Age'].max()"
   ]
  },
  {
   "cell_type": "code",
   "execution_count": null,
   "id": "f7203447-975a-4601-a86d-4bec3fb5a985",
   "metadata": {},
   "outputs": [],
   "source": [
    "NY_Citi_Bikes_data_wt_duplicates.describe()"
   ]
  },
  {
   "cell_type": "markdown",
   "id": "cb4e22d1-b46d-4c76-916c-aa14f3518d70",
   "metadata": {},
   "source": [
    "There is an extreme value in column 'Trip_Duration_in_min'. We will remove this outlier from the dataset and stop it from messing up our result.\n",
    "Delete the entire row associated with the outlier"
   ]
  },
  {
   "cell_type": "code",
   "execution_count": null,
   "id": "af678cc6-080a-49c3-af72-8c23ec916953",
   "metadata": {},
   "outputs": [],
   "source": [
    "#Delete the entire row with 'Trip_Duration_in_min' = 6515\n",
    "NY_Citi_Bikes_data_wt_duplicates =\\\n",
    "NY_Citi_Bikes_data_wt_duplicates.drop(index=[row for row in NY_Citi_Bikes_data_wt_duplicates.index if 6515 == NY_Citi_Bikes_data_wt_duplicates.loc[row, 'Trip_Duration_in_min']])"
   ]
  },
  {
   "cell_type": "code",
   "execution_count": null,
   "id": "50fa08b6-5a38-41c2-a8cd-6c2f0a0eb839",
   "metadata": {},
   "outputs": [],
   "source": [
    "NY_Citi_Bikes_data_wt_duplicates"
   ]
  },
  {
   "cell_type": "code",
   "execution_count": null,
   "id": "53b1da4c-bf36-4771-a531-4de5cd46afc8",
   "metadata": {},
   "outputs": [],
   "source": [
    "NY_Citi_Bikes_data_wt_duplicates.describe()"
   ]
  },
  {
   "cell_type": "code",
   "execution_count": null,
   "id": "f40fdeab-7490-47ae-a7e4-b8dd848f1b43",
   "metadata": {},
   "outputs": [],
   "source": []
  }
 ],
 "metadata": {
  "kernelspec": {
   "display_name": "Python 3 (ipykernel)",
   "language": "python",
   "name": "python3"
  },
  "language_info": {
   "codemirror_mode": {
    "name": "ipython",
    "version": 3
   },
   "file_extension": ".py",
   "mimetype": "text/x-python",
   "name": "python",
   "nbconvert_exporter": "python",
   "pygments_lexer": "ipython3",
   "version": "3.8.17"
  }
 },
 "nbformat": 4,
 "nbformat_minor": 5
}
